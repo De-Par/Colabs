{
  "nbformat": 4,
  "nbformat_minor": 0,
  "metadata": {
    "colab": {
      "provenance": [],
      "authorship_tag": "ABX9TyN9MuNcgYHolBOsoJeTFMtR",
      "include_colab_link": true
    },
    "kernelspec": {
      "name": "python3",
      "display_name": "Python 3"
    },
    "language_info": {
      "name": "python"
    }
  },
  "cells": [
    {
      "cell_type": "markdown",
      "metadata": {
        "id": "view-in-github",
        "colab_type": "text"
      },
      "source": [
        "<a href=\"https://colab.research.google.com/github/De-Par/Colabs/blob/main/Max_Bipartite_Matching.ipynb\" target=\"_parent\"><img src=\"https://colab.research.google.com/assets/colab-badge.svg\" alt=\"Open In Colab\"/></a>"
      ]
    },
    {
      "cell_type": "code",
      "source": [
        "#@title Cборка проекта\n",
        "\n",
        "# Enter: ctrl + F9"
      ],
      "metadata": {
        "id": "t9isFl3sgMPH"
      },
      "execution_count": 78,
      "outputs": []
    },
    {
      "cell_type": "code",
      "execution_count": 79,
      "metadata": {
        "colab": {
          "base_uri": "https://localhost:8080/"
        },
        "id": "JUI_eCaDHKjW",
        "outputId": "3b81c618-c650-4c8b-a776-c0b370808392"
      },
      "outputs": [
        {
          "output_type": "stream",
          "name": "stdout",
          "text": [
            "Looking in indexes: https://pypi.org/simple, https://us-python.pkg.dev/colab-wheels/public/simple/\n",
            "Requirement already satisfied: cplex in /usr/local/lib/python3.9/dist-packages (22.1.0.0)\n",
            "Requirement already satisfied: docplex in /usr/local/lib/python3.9/dist-packages (2.25.236)\n",
            "Requirement already satisfied: six in /usr/local/lib/python3.9/dist-packages (from docplex) (1.16.0)\n"
          ]
        }
      ],
      "source": [
        "#@title Установка солвера\n",
        "\n",
        "!pip install cplex docplex"
      ]
    },
    {
      "cell_type": "code",
      "source": [
        "#@title Импорт библиотек\n",
        "\n",
        "import cplex\n",
        "import docplex\n",
        "import time\n",
        "import numpy as np\n",
        "import matplotlib.pyplot as plt\n",
        "from docplex.mp.model import Model\n",
        "from collections import defaultdict"
      ],
      "metadata": {
        "id": "ob_UlVtkfDFi"
      },
      "execution_count": 80,
      "outputs": []
    },
    {
      "cell_type": "code",
      "source": [
        "#@title Реализация алгоритма Куна\n",
        "\n",
        "def create_adj_list(adj_mat):\n",
        "    adj_list = []\n",
        "    n = len(adj_mat)\n",
        "\n",
        "    for i in range(n):\n",
        "        adj_list.append([j for j in range(n) if adj_mat[i][j] == 1])\n",
        "    return adj_list\n",
        "\n",
        "def dfs(graph, v, used, pair):\n",
        "    if used[v]:\n",
        "        return False\n",
        "\n",
        "    used[v] = True\n",
        "    for x in graph[v]:\n",
        "        if (pair[x] == -1 or dfs(graph, pair[x], used, pair)):\n",
        "            pair[x] = v\n",
        "            return True\n",
        "    return False\n",
        "\n",
        "def solve_with_kuhn_alg(graph):\n",
        "    n = len(graph)\n",
        "    pair = [-1]*n\n",
        "    cnt = 0\n",
        "\n",
        "    for i in range(n):\n",
        "        used = [0]*n\n",
        "        if (dfs(graph, i, used, pair)):\n",
        "            cnt += 1\n",
        "    return cnt"
      ],
      "metadata": {
        "id": "vvyqW_aIiXvo"
      },
      "execution_count": 81,
      "outputs": []
    },
    {
      "cell_type": "code",
      "source": [
        "#@title Реализация улучшенного алгоритма Куна\n",
        "\n",
        "def solve_with_impr_kuhn_alg(graph):\n",
        "    n = len(graph)\n",
        "    pair = [-1]*n\n",
        "    ans = 0\n",
        "    used = [0]*n\n",
        "    for i in range(n):\n",
        "        for j in range(len(graph[i])):\n",
        "            if(pair[graph[i][j]] == -1):\n",
        "                pair[graph[i][j]] = i\n",
        "                used[i] = True\n",
        "                ans += 1\n",
        "                break\n",
        "    for i in range(n):\n",
        "        used_1 = [0]*n\n",
        "        if used[i]: continue\n",
        "        if (dfs(graph, i, used_1, pair)):\n",
        "            ans += 1\n",
        "    return ans"
      ],
      "metadata": {
        "id": "F9iDnDAPDlxJ"
      },
      "execution_count": 82,
      "outputs": []
    },
    {
      "cell_type": "code",
      "source": [
        "#@title Реализация алгоритма Форда-Фалкерсона (максимальное паросочетание)\n",
        "\n",
        "def bpm(graph, u, matchR, seen):\n",
        "    for v in range(len(graph[0])):\n",
        "        if graph[u][v] and seen[v] == False:\n",
        "            seen[v] = True\n",
        "\n",
        "            if matchR[v] == -1 or bpm(graph, matchR[v], matchR, seen):\n",
        "                matchR[v] = u\n",
        "                return True\n",
        "\n",
        "    return False\n",
        "\n",
        "def max_bpm(graph):\n",
        "    matchR = [-1]*len(graph[0])\n",
        "    result = 0\n",
        "\n",
        "    for i in range(len(graph)):\n",
        "        seen = [False]*len(graph[0])\n",
        "        if bpm(graph, i, matchR, seen):\n",
        "            result += 1\n",
        "\n",
        "    return result\n",
        "\n",
        "def solve_with_ford_alg(graph):\n",
        "    return max_bpm(graph)"
      ],
      "metadata": {
        "id": "ekwK-5yoYn0h"
      },
      "execution_count": 83,
      "outputs": []
    },
    {
      "cell_type": "code",
      "source": [
        "#@title Реализация алгоритма Форда-Фалкерсона (максимальная пропускная способность)\n",
        "\n",
        "def bfs(graph, s, t, parent):\n",
        "    visited = [False]*len(graph)\n",
        "    visited[s] = True\n",
        "    queue = []\n",
        "    queue.append(s)\n",
        "    \n",
        "    while queue:\n",
        "        u = queue.pop(0)\n",
        "        for ind, val in enumerate(graph[u]):\n",
        "            if visited[ind] == False and val > 0:\n",
        "                queue.append(ind)\n",
        "                visited[ind] = True\n",
        "                parent[ind] = u\n",
        "\n",
        "    return True if visited[t] else False\n",
        "\n",
        "def mx_flow(graph, source, sink):\n",
        "    parent = [-1]*len(graph)\n",
        "    max_flow = 0\n",
        "\n",
        "    while bfs(graph, source, sink, parent):\n",
        "        path_flow = float(\"inf\")\n",
        "        s = sink\n",
        "\n",
        "        while(s != source):\n",
        "            path_flow = min(path_flow, graph[parent[s]][s])\n",
        "            s = parent[s]\n",
        "        max_flow += path_flow\n",
        "        v = sink\n",
        "\n",
        "        while(v != source):\n",
        "            u = parent[v]\n",
        "            graph[u][v] -= path_flow\n",
        "            graph[v][u] += path_flow\n",
        "            v = parent[v]\n",
        "\n",
        "    return max_flow\n",
        "\n",
        "def mx_flow_ford_alg(graph):\n",
        "    return mx_flow(graph, 0, len(graph) - 1)\n"
      ],
      "metadata": {
        "id": "S3jaGck8ixGp"
      },
      "execution_count": 84,
      "outputs": []
    },
    {
      "cell_type": "code",
      "source": [
        "#@title Решение задачи солвером\n",
        "\n",
        "def solve_with_cplex(graph):\n",
        "    global cplex_time_0\n",
        "    n = len(graph)\n",
        "    matching_model = Model(\"matching\")\n",
        "    x = matching_model.binary_var_list(n*n, name=\"x\")\n",
        "    obj_fn = sum(x[i + n*j]*graph[j][i] for j in range(n) for i in range(n))\n",
        "\n",
        "    for i in range(n):\n",
        "        matching_model.add_constraint(sum(x[i + n*j] for j in range(n)) <= 1)\n",
        "        matching_model.add_constraint(sum(x[j + n*i] for j in range(n)) <= 1)\n",
        "\n",
        "    matching_model.set_objective(\"max\", obj_fn)\n",
        "    start = time.time()\n",
        "    sol = matching_model.solve()\n",
        "    cplex_time_0 += time.time() - start\n",
        "\n",
        "    return (int(sol.objective_value))"
      ],
      "metadata": {
        "id": "C_oVvv-OjZBX"
      },
      "execution_count": 85,
      "outputs": []
    },
    {
      "cell_type": "code",
      "source": [
        "#@title Генерация матрицы смежности двудольного графа\n",
        "\n",
        "def create_adj_mat(n_vert):\n",
        "    graph = [[0]*n_vert for j in range(n_vert)]\n",
        "\n",
        "    for j in range(n_vert):\n",
        "        for k in range(n_vert):\n",
        "            graph[j][k] = np.random.choice(np.arange(0, 2), p=[0.9, 0.1])\n",
        "    return graph"
      ],
      "metadata": {
        "id": "fpCtj9wqg4gU"
      },
      "execution_count": 86,
      "outputs": []
    },
    {
      "cell_type": "code",
      "source": [
        "#@title Проверка решений\n",
        "\n",
        "def check_solutions(sample, l1, l2, l3, ver_dl):\n",
        "    algo = [\"Куна\", \"Куна+\", \"Форда\"]\n",
        "    rez = [l1, l2, l3]\n",
        "\n",
        "    for n_v in ver_dl:\n",
        "        i = 0\n",
        "        print()\n",
        "        for ans in rez:\n",
        "            f = True\n",
        "            for a, b in zip(sample[i], ans[i]):\n",
        "                if a != b:\n",
        "                    f = False\n",
        "                    break\n",
        "            sym = (\" \" if i == 0 else \"\") + (\"✅\" if f else \"❌\")\n",
        "            print(f\"Сходство решений алгоритма {algo[i]} с солвером для n = {n_v}: {sym}\")\n",
        "            i += 1"
      ],
      "metadata": {
        "id": "Iftp8kHvT70P"
      },
      "execution_count": 109,
      "outputs": []
    },
    {
      "cell_type": "code",
      "source": [
        "#@title Основная реализация\n",
        "\n",
        "# Requirement: FROM + N*STEP == MAX_VERT, where N is natural\n",
        "\n",
        "VERBOSE = False\n",
        "CPLEX_LIMIT = 30\n",
        "NUM_TESTS = 100\n",
        "MAX_VERT = 100\n",
        "FROM = 10\n",
        "STEP = 10\n",
        "\n",
        "cplex_sol, kunh_sol, kunh_impr_sol, ford_sol = [], [], [], []\n",
        "cplex_time, kunh_time, kunh_impr_time, ford_time = [], [], [], []\n",
        "ver_dim_list = [i for i in range(FROM, MAX_VERT + 1, STEP)]\n",
        "\n",
        "for n_vert in ver_dim_list:\n",
        "    cplex_sol_ex, kunh_sol_ex, kunh_impr_sol_ex, ford_sol_ex = [], [], [], []\n",
        "    cplex_time_0, kunh_time_0, kunh_impr_time_0, ford_time_0 = 0, 0, 0, 0\n",
        "  \n",
        "    for n_test in range(NUM_TESTS):\n",
        "        adj_mat = create_adj_mat(n_vert)\n",
        "\n",
        "        if n_vert <= CPLEX_LIMIT:\n",
        "            cplex_sol_ex.append(solve_with_cplex(adj_mat))\n",
        "\n",
        "        # ford-fulkerson\n",
        "        start = time.time()\n",
        "        ford_sol_ex.append(solve_with_ford_alg(adj_mat))\n",
        "        ford_time_0 += time.time() - start\n",
        "\n",
        "        # data migration\n",
        "        adj_list = create_adj_list(adj_mat)  \n",
        "\n",
        "        # kunh\n",
        "        start = time.time()\n",
        "        kunh_sol_ex.append(solve_with_kuhn_alg(adj_list))\n",
        "        kunh_time_0 += time.time() - start\n",
        "\n",
        "        # kunh improved\n",
        "        start = time.time()\n",
        "        kunh_impr_sol_ex.append(solve_with_impr_kuhn_alg(adj_list))\n",
        "        kunh_impr_time_0 += time.time() - start\n",
        "\n",
        "    kunh_time.append(kunh_time_0/NUM_TESTS)\n",
        "    kunh_impr_time.append(kunh_impr_time_0/NUM_TESTS)\n",
        "    ford_time.append(ford_time_0/NUM_TESTS)\n",
        "\n",
        "    cplex_sol.append(cplex_sol_ex)\n",
        "    kunh_sol.append(kunh_sol_ex)\n",
        "    kunh_impr_sol.append(kunh_impr_sol_ex)\n",
        "    ford_sol.append(ford_sol_ex)\n",
        "\n",
        "if VERBOSE:\n",
        "    ind = 0\n",
        "    for n_vert in ver_dim_list:\n",
        "        print(f\"Решения солвера для n = {n_vert}:\")\n",
        "        print(cplex_sol[ind])\n",
        "        print(f\"Решения алгоритма Куна для n = {n_vert}:\")\n",
        "        print(kunh_sol[ind])\n",
        "        print(f\"Решения алгоритма Куна+ для n = {n_vert}:\")\n",
        "        print(kunh_impr_sol[ind])\n",
        "        print(f\"Решения алгоритма Форда для n = {n_vert}:\")\n",
        "        print(ford_sol[ind])\n",
        "        print()\n",
        "        ind += 1\n",
        "else:\n",
        "    check_solutions(cplex_sol, kunh_sol, kunh_impr_sol, ford_sol, ver_dim_list)\n",
        "\n",
        "print()\n",
        "plt.plot(ver_dim_list, ford_time, label=\"Ford\")\n",
        "plt.plot(ver_dim_list, kunh_time, label=\"Kunh\")\n",
        "plt.plot(ver_dim_list, kunh_impr_time, label=\"Kunh+\")\n",
        "plt.legend()\n",
        "plt.show()"
      ],
      "metadata": {
        "colab": {
          "base_uri": "https://localhost:8080/",
          "height": 976
        },
        "id": "gr6q6Ud_HPMK",
        "outputId": "f059506d-530a-4c2b-984f-41724d3174c0"
      },
      "execution_count": 111,
      "outputs": [
        {
          "output_type": "stream",
          "name": "stdout",
          "text": [
            "\n",
            "Сходство решений алгоритма Куна с солвером для n = 10:  ✅\n",
            "Сходство решений алгоритма Куна+ с солвером для n = 10: ✅\n",
            "Сходство решений алгоритма Форда с солвером для n = 10: ✅\n",
            "\n",
            "Сходство решений алгоритма Куна с солвером для n = 20:  ✅\n",
            "Сходство решений алгоритма Куна+ с солвером для n = 20: ✅\n",
            "Сходство решений алгоритма Форда с солвером для n = 20: ✅\n",
            "\n",
            "Сходство решений алгоритма Куна с солвером для n = 30:  ✅\n",
            "Сходство решений алгоритма Куна+ с солвером для n = 30: ✅\n",
            "Сходство решений алгоритма Форда с солвером для n = 30: ✅\n",
            "\n",
            "Сходство решений алгоритма Куна с солвером для n = 40:  ✅\n",
            "Сходство решений алгоритма Куна+ с солвером для n = 40: ✅\n",
            "Сходство решений алгоритма Форда с солвером для n = 40: ✅\n",
            "\n",
            "Сходство решений алгоритма Куна с солвером для n = 50:  ✅\n",
            "Сходство решений алгоритма Куна+ с солвером для n = 50: ✅\n",
            "Сходство решений алгоритма Форда с солвером для n = 50: ✅\n",
            "\n",
            "Сходство решений алгоритма Куна с солвером для n = 60:  ✅\n",
            "Сходство решений алгоритма Куна+ с солвером для n = 60: ✅\n",
            "Сходство решений алгоритма Форда с солвером для n = 60: ✅\n",
            "\n",
            "Сходство решений алгоритма Куна с солвером для n = 70:  ✅\n",
            "Сходство решений алгоритма Куна+ с солвером для n = 70: ✅\n",
            "Сходство решений алгоритма Форда с солвером для n = 70: ✅\n",
            "\n",
            "Сходство решений алгоритма Куна с солвером для n = 80:  ✅\n",
            "Сходство решений алгоритма Куна+ с солвером для n = 80: ✅\n",
            "Сходство решений алгоритма Форда с солвером для n = 80: ✅\n",
            "\n",
            "Сходство решений алгоритма Куна с солвером для n = 90:  ✅\n",
            "Сходство решений алгоритма Куна+ с солвером для n = 90: ✅\n",
            "Сходство решений алгоритма Форда с солвером для n = 90: ✅\n",
            "\n",
            "Сходство решений алгоритма Куна с солвером для n = 100:  ✅\n",
            "Сходство решений алгоритма Куна+ с солвером для n = 100: ✅\n",
            "Сходство решений алгоритма Форда с солвером для n = 100: ✅\n",
            "\n"
          ]
        },
        {
          "output_type": "display_data",
          "data": {
            "text/plain": [
              "<Figure size 432x288 with 1 Axes>"
            ],
            "image/png": "[encoded data removed]"
          },
          "metadata": {
            "needs_background": "light"
          }
        }
      ]
    }
  ]
}